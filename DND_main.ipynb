{
 "cells": [
  {
   "cell_type": "code",
   "execution_count": 47,
   "id": "e4c39283",
   "metadata": {},
   "outputs": [],
   "source": [
    "from config import key, master\n",
    "from openai import OpenAI\n",
    "import gradio as gr"
   ]
  },
  {
   "cell_type": "code",
   "execution_count": 48,
   "id": "600059f8",
   "metadata": {},
   "outputs": [],
   "source": [
    "def chat_with_master(master_promt, user_input, conversation_history, key):\n",
    "    client = OpenAI(api_key=key)\n",
    "    \n",
    "    if len(conversation_history) == 0:\n",
    "        conversation_history.append({\"role\": \"system\", \"content\": master_promt})\n",
    "        \n",
    "    \n",
    "    conversation_history.append({\"role\": \"user\", \"content\": user_input})\n",
    "    \n",
    "    \n",
    "    chat_completion = client.chat.completions.create(\n",
    "        messages=conversation_history,\n",
    "        model=\"gpt-3.5-turbo\",\n",
    "        max_tokens=200,\n",
    "        temperature=0.9\n",
    "    )\n",
    "    \n",
    "    master_response = chat_completion.choices[0].message.content\n",
    "\n",
    "    conversation_history.append({\"role\": \"assistant\", \"content\": master_response})\n",
    "    \n",
    "    return master_response, conversation_history"
   ]
  },
  {
   "cell_type": "code",
   "execution_count": 49,
   "id": "8c89af99",
   "metadata": {},
   "outputs": [],
   "source": [
    "def adveture():\n",
    "    conversation_history = []\n",
    "    \n",
    "    def gradio_interface(user_input):\n",
    "        nonlocal conversation_history\n",
    "        response, conversation_history = chat_with_master(master, user_input, conversation_history, key)\n",
    "        return response\n",
    "    \n",
    "    interface = gr.Interface(fn=gradio_interface,\n",
    "                             inputs=\"text\",\n",
    "                             outputs=\"text\",\n",
    "                             title=\"DnD Game Master\",\n",
    "                             description=\"AI Dungeon Master for your Dungeons & Dragons adventure!\")\n",
    "    \n",
    "    interface.launch()"
   ]
  },
  {
   "cell_type": "code",
   "execution_count": 51,
   "id": "73276001",
   "metadata": {},
   "outputs": [
    {
     "name": "stdout",
     "output_type": "stream",
     "text": [
      "Running on local URL:  http://127.0.0.1:7864\n",
      "\n",
      "To create a public link, set `share=True` in `launch()`.\n"
     ]
    },
    {
     "data": {
      "text/html": [
       "<div><iframe src=\"http://127.0.0.1:7864/\" width=\"100%\" height=\"500\" allow=\"autoplay; camera; microphone; clipboard-read; clipboard-write;\" frameborder=\"0\" allowfullscreen></iframe></div>"
      ],
      "text/plain": [
       "<IPython.core.display.HTML object>"
      ]
     },
     "metadata": {},
     "output_type": "display_data"
    }
   ],
   "source": [
    "adveture()"
   ]
  },
  {
   "cell_type": "code",
   "execution_count": null,
   "id": "e9ac5dd8",
   "metadata": {},
   "outputs": [],
   "source": []
  }
 ],
 "metadata": {
  "kernelspec": {
   "display_name": "Python 3 (ipykernel)",
   "language": "python",
   "name": "python3"
  },
  "language_info": {
   "codemirror_mode": {
    "name": "ipython",
    "version": 3
   },
   "file_extension": ".py",
   "mimetype": "text/x-python",
   "name": "python",
   "nbconvert_exporter": "python",
   "pygments_lexer": "ipython3",
   "version": "3.12.4"
  }
 },
 "nbformat": 4,
 "nbformat_minor": 5
}
