{
 "cells": [
  {
   "cell_type": "code",
   "execution_count": 1,
   "id": "43c92aed",
   "metadata": {},
   "outputs": [
    {
     "name": "stdout",
     "output_type": "stream",
     "text": [
      "~~~~ Welome to DnD Next Simple Character Creator ~~~~\n",
      "\n",
      "This program will help you create a character quickly to the point where you will need to begin choosing choosing armor, items, skills, etc.\n",
      "\n",
      "To create a character, simply create a race instance and follow the directions.\n",
      "To do so, type: CharacterName = Race(Level,Name)\n",
      "For example: Tim = Dwarf(4,'Tim')\n",
      "Note: leaving the arguments blank (e.g. Dwarf() ) will default to Level 1 with a random name.\n",
      "\n",
      "Races are: Dwarf, Elf, Halfling, Human\n"
     ]
    }
   ],
   "source": [
    "import Character_Creation"
   ]
  },
  {
   "cell_type": "code",
   "execution_count": 2,
   "id": "3f4c5fb1",
   "metadata": {},
   "outputs": [
    {
     "name": "stdout",
     "output_type": "stream",
     "text": [
      "You can use randomized ability scores: [5, 9, 10, 11, 12, 18]\n",
      "Or simply use the standard array:      [8, 10, 12, 13, 14, 15]\n",
      "\n",
      "Please enter STRENGTH value: 8\n",
      "Please enter DEXTERITY value: 10\n",
      "Please enter CONSTITUTION value: 12\n",
      "Please enter INTELLIGENCE value: 13\n",
      "Please enter WISDOM value: 15\n",
      "Please enter CHARISMA value: 16\n",
      "\n",
      "Are you a (1) High Elf or (2) Wood Elf? (input number) 2\n",
      "\n",
      "Which class would you like? Please choose from:\n",
      "Barbarian, Cleric, Druid, Fighter, Monk, Paladin, Ranger, Rogue, Wizard Rogue\n",
      "\n",
      "Would you like to boost (1) Strength, (2) Dexterity, or (3) Intelligence? 2\n",
      "\n",
      "Enter a background from this list: ['Artisan', 'Bounty Hunter', 'Charlatan', 'Commoner', 'Guide', 'Guild Thief', 'Jester', 'Knight', 'Minstrel', 'Noble', 'Priest', 'Sage', 'Soldier', 'Spy', 'Thug']: Spy\n",
      "\n",
      "You'll now choose 4 skills from this list:\n",
      "\n",
      "Administer First Aid\n",
      "Balance\n",
      "Bluff\n",
      "Break An Object\n",
      "Climb\n",
      "Conceal An Object\n",
      "Drive\n",
      "Gather Rumors\n",
      "Handle An Animal\n",
      "Intimidate\n",
      "Jump\n",
      "Listen\n",
      "Perform\n",
      "Persuade\n",
      "Recall Lore\n",
      "Ride\n",
      "Search\n",
      "Sense Motive\n",
      "Sneak\n",
      "Spot\n",
      "Swim\n",
      "Tumble\n",
      "\n",
      "Recommended skills for your Spy are: ['Bluff', 'Search', 'Sense Motive', 'Sneak']\n",
      "Which Skill would you like for skill 1? Bluff\n",
      "Which Skill would you like for skill 2? Search\n",
      "Which Skill would you like for skill 3? Sense Motive\n",
      "Which Skill would you like for skill 4? Sneak\n",
      "\n",
      "Which specialty would you like?\n",
      "Choose from: \n",
      "['Ambusher', 'Defender', 'Hedge Magician', 'Metamagician', 'Mystical Healer', 'Polearm Master', 'Reaper', 'Sharpshooter', 'Skirmisher', 'Skulker', 'Specialist', 'Survivor', 'Swashbuckler', 'Two Weapon Fighter']\n",
      "\n",
      "The recommended specialty for your Rogue is Specialist: Specialist\n",
      "\n",
      "\n",
      "\n",
      "~~~~~~~~~~~~~~~~ Timber the Elf Rogue ~~~~~~~~~~~~~~~~\n",
      "\n",
      "Level: 1   HP: 18    XP: 0    Hit Dice: 1d6\n",
      "STR: 8 (-1.0) \n",
      "DEX: 12 (1.0)\n",
      "CON: 12 (1.0)\n",
      "INT: 13 (1.5)\n",
      "WIS: 16 (3.0)\n",
      "CHA: 16 (3.0)\n",
      "\n",
      "~~~~~~~~~ Skills ~~~~~~~~~\n",
      "\n",
      "Bluff (CHA)\n",
      "Search (INT)\n",
      "Sense Motive (WIS)\n",
      "Sneak (DEX)\n",
      "\n",
      "\n",
      "~~~~~~~~~ Traits ~~~~~~~~~\n",
      "\n",
      "  ~~Ability Score Adjustment~~\n",
      "    Your starting Dexterity score increases by 1. (Already Calculated)\n",
      "\n",
      "  ~~Size~~\n",
      "    Medium.\n",
      "\n",
      "  ~~Speed~~\n",
      "    35 Feet\n",
      "\n",
      "  ~~Low-Light Vision~~\n",
      "    You can see in dim light as well as you do in bright light.\n",
      "\n",
      "  ~~Elf Weapon Training~~\n",
      "    You are proficient with the long sword, short sword, shortbow, and longbow.\n",
      "\n",
      "  ~~Keen Senses~~\n",
      "    You have advantage on all Wisdom checks to listen and spot.\n",
      "\n",
      "  ~~Free Spirit~~\n",
      "    You are immune to the charmed condition and to any effect that would put you to sleep.\n",
      "\n",
      "  ~~Trance~~\n",
      "    Elves do not need to sleep. Instead, they meditate deeply for 4 hours a day. (The Common word for such meditation is “trance.”) While meditating, you can dream after a fashion; such dreams are actually mental exercises that have become reflexive through years of practice. After resting in this way, you gain the same benefit that a human does from 8 hours of sleep.\n",
      "\n",
      "  ~~Languages~~\n",
      "    You can speak, read, and write Common and Elvish, as well as a number of additional languages of your choice equal to your Intelligence modifier, provided it is positive.\n",
      "\n",
      "  ~~Subrace~~\n",
      "    Wood Elf\n",
      "\n",
      "  ~~Fleet of Foot~~\n",
      "    Your speed increases by 5 feet. (Already calculated)\n",
      "\n",
      "  ~~Mask of the Wild~~\n",
      "    You can attempt to hide even when you are only lightly obscured by foliage, heavy rain, falling snow, mist, and other natural phenomena.\n",
      "\n",
      "  ~~Contact~~\n",
      "    You have a contact who acts as your liaison to a network of other spies. You know how to communicate with your contact over great distances (including through the use of magic for quicker communication if you have access to the appropriate spells or items) and typically can exchange information you have gathered for information you seek from your contact.\n",
      "\n",
      "~~~~~~~~~ Specialty: Specialist ~~~~~~~~\n",
      "\n",
      " This specialty represents perhaps the broadest range of characters. While others allow their skills to grow organically, you make a point of mastering your skills. As you progress along this path, you have the opportunity to learn more skills and to increase your proficiency with those you have. Think about what environment might have fostered this devotion. Are you a dabbler in many varied skills, or deeply invested in a few key skills? Are you a sage seeking to increase the breadth and depth of your knowledge? Or perhaps you're a charlatan who wants to be able to convincingly adopt many new identities.\n",
      "\n",
      "    ~~~~ Feats ~~~~\n",
      "\n",
      "       Level 1: Superior Skill Training (Expert Feat)\n",
      "                \"You have specialized training and experience that gives you an edge in certain situations.\"\n",
      "\n",
      "                Benefit: You gain two skills of your choice. SPECIAL - You can select this feat multiple times, but you must choose two different skills each time.\n",
      "\n",
      "~~~~~~~~~ Background: Spy ~~~~~~~~\n",
      "\n",
      "  You can learn information that others attempt to keep secret. You collect rumors, whispers, stories, and hard-­‐won evidence. Then you use that knowledge to aid your own endeavors and, when appropriate, to sell to those willing to pay a premium.\n"
     ]
    }
   ],
   "source": [
    "character = Character_Creation.Elf(1, 'Timber')"
   ]
  },
  {
   "cell_type": "code",
   "execution_count": 3,
   "id": "28ff41bd",
   "metadata": {},
   "outputs": [
    {
     "name": "stdout",
     "output_type": "stream",
     "text": [
      "File Timber_Elf_Rogue_lvl_1.txt saved.\n"
     ]
    }
   ],
   "source": [
    "character.save()"
   ]
  },
  {
   "cell_type": "code",
   "execution_count": null,
   "id": "3a92e139",
   "metadata": {},
   "outputs": [],
   "source": []
  }
 ],
 "metadata": {
  "kernelspec": {
   "display_name": "Python 3 (ipykernel)",
   "language": "python",
   "name": "python3"
  },
  "language_info": {
   "codemirror_mode": {
    "name": "ipython",
    "version": 3
   },
   "file_extension": ".py",
   "mimetype": "text/x-python",
   "name": "python",
   "nbconvert_exporter": "python",
   "pygments_lexer": "ipython3",
   "version": "3.12.4"
  }
 },
 "nbformat": 4,
 "nbformat_minor": 5
}
